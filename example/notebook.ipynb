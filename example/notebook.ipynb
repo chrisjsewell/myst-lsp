{
 "cells": [
  {
   "cell_type": "markdown",
   "metadata": {},
   "source": [
    "(notebook-section)=\n",
    "# Notebook\n",
    "\n",
    "Example notebook.\n",
    "\n",
    "```{note}\n",
    "Clients must support [Notebook synchronization](https://microsoft.github.io/language-server-protocol/specifications/lsp/3.17/specification/#notebookDocument_synchronization) to use `myst-lsp` in Markdown cells.\n",
    "```"
   ]
  }
 ],
 "metadata": {
  "kernelspec": {
   "display_name": "Python 3.8.13 ('base')",
   "language": "python",
   "name": "python3"
  },
  "language_info": {
   "name": "python",
   "version": "3.8.13"
  },
  "orig_nbformat": 4,
  "vscode": {
   "interpreter": {
    "hash": "8398b65b1e6feb38b0506d5ab1aedf8bf63748a9844a9c81ed9242850234e24f"
   }
  }
 },
 "nbformat": 4,
 "nbformat_minor": 2
}
